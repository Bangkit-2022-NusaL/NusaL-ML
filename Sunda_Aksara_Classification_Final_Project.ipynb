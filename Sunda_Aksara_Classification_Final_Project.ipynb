{
  "cells": [
    {
      "cell_type": "code",
      "execution_count": null,
      "metadata": {
        "id": "wYtuKeK0dImp"
      },
      "outputs": [],
      "source": [
        "# Import package that we need\n",
        "import os\n",
        "import csv\n",
        "import numpy as np\n",
        "import tensorflow as tf\n",
        "import matplotlib.pyplot as plt\n",
        "from tensorflow.keras.preprocessing.image import ImageDataGenerator, array_to_img"
      ]
    },
    {
      "cell_type": "code",
      "source": [
        "# Import raw data into colab\n",
        "!git clone https://github.com/ridhomujizat/AksaraSundaCNN/"
      ],
      "metadata": {
        "colab": {
          "base_uri": "https://localhost:8080/"
        },
        "id": "VkZn5O9wKgNL",
        "outputId": "d4c112a2-67f4-4fe0-d77e-4baa90def85b"
      },
      "execution_count": null,
      "outputs": [
        {
          "output_type": "stream",
          "name": "stdout",
          "text": [
            "Cloning into 'AksaraSundaCNN'...\n",
            "remote: Enumerating objects: 5780, done.\u001b[K\n",
            "remote: Counting objects: 100% (13/13), done.\u001b[K\n",
            "remote: Compressing objects: 100% (12/12), done.\u001b[K\n",
            "remote: Total 5780 (delta 3), reused 0 (delta 0), pack-reused 5767\u001b[K\n",
            "Receiving objects: 100% (5780/5780), 145.21 MiB | 33.62 MiB/s, done.\n",
            "Resolving deltas: 100% (299/299), done.\n",
            "Checking out files: 100% (11371/11371), done.\n"
          ]
        }
      ]
    },
    {
      "cell_type": "code",
      "source": [
        "# Import raw data into colab\n",
        "!git clone https://github.com/ridhomujizat/AksaraSundaCNN/"
      ],
      "metadata": {
        "colab": {
          "base_uri": "https://localhost:8080/"
        },
        "id": "io2TFjJmMxkQ",
        "outputId": "c8864cc4-2967-4e5a-f0eb-0b8a93eef614"
      },
      "execution_count": null,
      "outputs": [
        {
          "output_type": "stream",
          "name": "stdout",
          "text": [
            "fatal: destination path 'AksaraSundaCNN' already exists and is not an empty directory.\n"
          ]
        }
      ]
    },
    {
      "cell_type": "code",
      "source": [
        "# Define root directory (blm dipake)\n",
        "root_path = '/content/AksaraSundaCNN'\n",
        "\n",
        "root_path_train = os.path.join(root_path, 'train')\n",
        "root_path_test = os.path.join(root_path, 'test')"
      ],
      "metadata": {
        "id": "WpW2gjtXLWWB"
      },
      "execution_count": null,
      "outputs": []
    },
    {
      "cell_type": "code",
      "source": [
        "def train_val_generators(TRAINING_DIR, VALIDATION_DIR):\n",
        "  # Instantiate the ImageDataGenerator class (don't forget to set the rescale argument)\n",
        "  train_datagen = ImageDataGenerator(rescale = 1./255,\n",
        "                                     rotation_range = 10,\n",
        "                                     width_shift_range = 0.04,\n",
        "                                     height_shift_range = 0.04,\n",
        "                                     shear_range = 0.04,\n",
        "                                     zoom_range = 0.04,\n",
        "                                     fill_mode = 'nearest')\n",
        "\n",
        "  # Pass in the appropiate arguments to the flow_from_directory method\n",
        "  train_generator = train_datagen.flow_from_directory(directory=TRAINING_DIR,\n",
        "                                                      batch_size=50,\n",
        "                                                      class_mode='categorical',\n",
        "                                                      target_size=(150, 150))\n",
        "\n",
        "  # Instantiate the ImageDataGenerator class (don't forget to set the rescale argument)\n",
        "  validation_datagen = ImageDataGenerator(rescale=1/255)\n",
        "\n",
        "  # Pass in the appropiate arguments to the flow_from_directory method\n",
        "  validation_generator = validation_datagen.flow_from_directory(directory=VALIDATION_DIR,\n",
        "                                                                batch_size=50,\n",
        "                                                                class_mode='categorical',\n",
        "                                                                target_size=(150, 150))\n",
        "  ### END CODE HERE\n",
        "  return train_generator, validation_generator"
      ],
      "metadata": {
        "id": "8IYXKfQ9LtyF"
      },
      "execution_count": null,
      "outputs": []
    },
    {
      "cell_type": "code",
      "source": [
        "# Test your generators\n",
        "train_generator, validation_generator = train_val_generators(root_path_train, root_path_test)"
      ],
      "metadata": {
        "colab": {
          "base_uri": "https://localhost:8080/"
        },
        "id": "2cUSGCjTLwVp",
        "outputId": "0284f206-89c3-4034-d4a6-9e00767be5b0"
      },
      "execution_count": null,
      "outputs": [
        {
          "output_type": "stream",
          "name": "stdout",
          "text": [
            "Found 3780 images belonging to 18 classes.\n",
            "Found 1620 images belonging to 18 classes.\n"
          ]
        }
      ]
    },
    {
      "cell_type": "code",
      "source": [
        "model = tf.keras.models.Sequential([ \n",
        "      tf.keras.layers.Conv2D(64, (3,3), activation='relu', input_shape=(150,150,3)),\n",
        "      tf.keras.layers.MaxPooling2D(2,2),\n",
        "      tf.keras.layers.Conv2D(64, (3,3), activation='relu'),\n",
        "      tf.keras.layers.MaxPooling2D(2,2),\n",
        "      tf.keras.layers.Conv2D(128, (3,3), activation='relu'),\n",
        "      tf.keras.layers.MaxPooling2D(2,2),\n",
        "      tf.keras.layers.Conv2D(128, (5,5), activation='relu'),\n",
        "      tf.keras.layers.MaxPooling2D(2,2),\n",
        "      tf.keras.layers.Conv2D(256, (5,5), activation='relu'),\n",
        "      tf.keras.layers.MaxPooling2D(2,2),\n",
        "      tf.keras.layers.Flatten(),\n",
        "      tf.keras.layers.Dense(1024, activation ='relu'),\n",
        "      tf.keras.layers.Dense(18, activation='softmax')\n",
        "  ])\n",
        "\n",
        "model.compile(optimizer='adam',\n",
        "                loss='categorical_crossentropy',\n",
        "                metrics=['accuracy'])"
      ],
      "metadata": {
        "id": "1J1Bh1cv5M9T"
      },
      "execution_count": null,
      "outputs": []
    },
    {
      "cell_type": "code",
      "source": [
        "model.summary()"
      ],
      "metadata": {
        "colab": {
          "base_uri": "https://localhost:8080/"
        },
        "id": "kK4VImQAPkfc",
        "outputId": "24367639-9a10-4793-de17-f1cd9bdca6eb"
      },
      "execution_count": null,
      "outputs": [
        {
          "output_type": "stream",
          "name": "stdout",
          "text": [
            "Model: \"sequential_3\"\n",
            "_________________________________________________________________\n",
            " Layer (type)                Output Shape              Param #   \n",
            "=================================================================\n",
            " conv2d_11 (Conv2D)          (None, 148, 148, 64)      1792      \n",
            "                                                                 \n",
            " max_pooling2d_11 (MaxPoolin  (None, 74, 74, 64)       0         \n",
            " g2D)                                                            \n",
            "                                                                 \n",
            " conv2d_12 (Conv2D)          (None, 72, 72, 64)        36928     \n",
            "                                                                 \n",
            " max_pooling2d_12 (MaxPoolin  (None, 36, 36, 64)       0         \n",
            " g2D)                                                            \n",
            "                                                                 \n",
            " conv2d_13 (Conv2D)          (None, 34, 34, 128)       73856     \n",
            "                                                                 \n",
            " max_pooling2d_13 (MaxPoolin  (None, 17, 17, 128)      0         \n",
            " g2D)                                                            \n",
            "                                                                 \n",
            " conv2d_14 (Conv2D)          (None, 13, 13, 128)       409728    \n",
            "                                                                 \n",
            " max_pooling2d_14 (MaxPoolin  (None, 6, 6, 128)        0         \n",
            " g2D)                                                            \n",
            "                                                                 \n",
            " conv2d_15 (Conv2D)          (None, 2, 2, 256)         819456    \n",
            "                                                                 \n",
            " max_pooling2d_15 (MaxPoolin  (None, 1, 1, 256)        0         \n",
            " g2D)                                                            \n",
            "                                                                 \n",
            " flatten_3 (Flatten)         (None, 256)               0         \n",
            "                                                                 \n",
            " dense_6 (Dense)             (None, 1024)              263168    \n",
            "                                                                 \n",
            " dense_7 (Dense)             (None, 18)                18450     \n",
            "                                                                 \n",
            "=================================================================\n",
            "Total params: 1,623,378\n",
            "Trainable params: 1,623,378\n",
            "Non-trainable params: 0\n",
            "_________________________________________________________________\n"
          ]
        }
      ]
    },
    {
      "cell_type": "code",
      "source": [
        "# Train your model\n",
        "history = model.fit(train_generator,\n",
        "                    epochs=30,\n",
        "                    validation_data=validation_generator)"
      ],
      "metadata": {
        "colab": {
          "base_uri": "https://localhost:8080/"
        },
        "id": "QC3HlacA8tb2",
        "outputId": "1612abe6-2dca-4383-e653-b29084ea761e"
      },
      "execution_count": null,
      "outputs": [
        {
          "output_type": "stream",
          "name": "stdout",
          "text": [
            "Epoch 1/30\n",
            "76/76 [==============================] - 28s 361ms/step - loss: 2.8920 - accuracy: 0.0471 - val_loss: 2.8901 - val_accuracy: 0.0556\n",
            "Epoch 2/30\n",
            "76/76 [==============================] - 27s 363ms/step - loss: 2.2634 - accuracy: 0.2548 - val_loss: 1.0518 - val_accuracy: 0.6006\n",
            "Epoch 3/30\n",
            "76/76 [==============================] - 27s 360ms/step - loss: 0.7184 - accuracy: 0.7407 - val_loss: 0.3114 - val_accuracy: 0.8815\n",
            "Epoch 4/30\n",
            "76/76 [==============================] - 27s 360ms/step - loss: 0.3650 - accuracy: 0.8653 - val_loss: 0.2309 - val_accuracy: 0.9130\n",
            "Epoch 5/30\n",
            "76/76 [==============================] - 27s 360ms/step - loss: 0.2893 - accuracy: 0.9034 - val_loss: 0.2174 - val_accuracy: 0.9191\n",
            "Epoch 6/30\n",
            "76/76 [==============================] - 28s 374ms/step - loss: 0.1410 - accuracy: 0.9534 - val_loss: 0.0958 - val_accuracy: 0.9660\n",
            "Epoch 7/30\n",
            "76/76 [==============================] - 27s 359ms/step - loss: 0.1103 - accuracy: 0.9640 - val_loss: 0.0790 - val_accuracy: 0.9704\n",
            "Epoch 8/30\n",
            "76/76 [==============================] - 28s 362ms/step - loss: 0.0824 - accuracy: 0.9757 - val_loss: 0.0402 - val_accuracy: 0.9870\n",
            "Epoch 9/30\n",
            "76/76 [==============================] - 28s 366ms/step - loss: 0.0505 - accuracy: 0.9852 - val_loss: 0.0562 - val_accuracy: 0.9759\n",
            "Epoch 10/30\n",
            "76/76 [==============================] - 28s 362ms/step - loss: 0.0561 - accuracy: 0.9804 - val_loss: 0.0990 - val_accuracy: 0.9716\n",
            "Epoch 11/30\n",
            "76/76 [==============================] - 28s 362ms/step - loss: 0.0419 - accuracy: 0.9844 - val_loss: 0.0406 - val_accuracy: 0.9864\n",
            "Epoch 12/30\n",
            "76/76 [==============================] - 27s 361ms/step - loss: 0.0554 - accuracy: 0.9810 - val_loss: 0.0514 - val_accuracy: 0.9815\n",
            "Epoch 13/30\n",
            "76/76 [==============================] - 28s 362ms/step - loss: 0.0398 - accuracy: 0.9852 - val_loss: 0.0422 - val_accuracy: 0.9852\n",
            "Epoch 14/30\n",
            "76/76 [==============================] - 28s 362ms/step - loss: 0.0354 - accuracy: 0.9876 - val_loss: 0.0355 - val_accuracy: 0.9870\n",
            "Epoch 15/30\n",
            "76/76 [==============================] - 27s 361ms/step - loss: 0.0340 - accuracy: 0.9886 - val_loss: 0.0330 - val_accuracy: 0.9877\n",
            "Epoch 16/30\n",
            "76/76 [==============================] - 28s 363ms/step - loss: 0.0220 - accuracy: 0.9929 - val_loss: 0.0428 - val_accuracy: 0.9858\n",
            "Epoch 17/30\n",
            "76/76 [==============================] - 28s 363ms/step - loss: 0.0280 - accuracy: 0.9905 - val_loss: 0.0448 - val_accuracy: 0.9883\n",
            "Epoch 18/30\n",
            "76/76 [==============================] - 27s 360ms/step - loss: 0.0443 - accuracy: 0.9876 - val_loss: 0.0251 - val_accuracy: 0.9907\n",
            "Epoch 19/30\n",
            "76/76 [==============================] - 28s 371ms/step - loss: 0.0198 - accuracy: 0.9934 - val_loss: 0.0478 - val_accuracy: 0.9840\n",
            "Epoch 20/30\n",
            "76/76 [==============================] - 27s 361ms/step - loss: 0.0228 - accuracy: 0.9929 - val_loss: 0.0200 - val_accuracy: 0.9926\n",
            "Epoch 21/30\n",
            "76/76 [==============================] - 27s 360ms/step - loss: 0.0228 - accuracy: 0.9944 - val_loss: 0.0174 - val_accuracy: 0.9932\n",
            "Epoch 22/30\n",
            "76/76 [==============================] - 27s 361ms/step - loss: 0.0066 - accuracy: 0.9974 - val_loss: 0.0339 - val_accuracy: 0.9907\n",
            "Epoch 23/30\n",
            "76/76 [==============================] - 27s 361ms/step - loss: 0.0177 - accuracy: 0.9934 - val_loss: 0.0239 - val_accuracy: 0.9920\n",
            "Epoch 24/30\n",
            "76/76 [==============================] - 27s 360ms/step - loss: 0.0210 - accuracy: 0.9934 - val_loss: 0.0260 - val_accuracy: 0.9920\n",
            "Epoch 25/30\n",
            "76/76 [==============================] - 27s 360ms/step - loss: 0.0214 - accuracy: 0.9937 - val_loss: 0.0426 - val_accuracy: 0.9852\n",
            "Epoch 26/30\n",
            "76/76 [==============================] - 27s 360ms/step - loss: 0.0083 - accuracy: 0.9968 - val_loss: 0.0212 - val_accuracy: 0.9926\n",
            "Epoch 27/30\n",
            "76/76 [==============================] - 27s 358ms/step - loss: 0.0231 - accuracy: 0.9921 - val_loss: 0.0798 - val_accuracy: 0.9772\n",
            "Epoch 28/30\n",
            "76/76 [==============================] - 27s 360ms/step - loss: 0.0360 - accuracy: 0.9907 - val_loss: 0.0773 - val_accuracy: 0.9778\n",
            "Epoch 29/30\n",
            "76/76 [==============================] - 28s 362ms/step - loss: 0.0212 - accuracy: 0.9918 - val_loss: 0.0193 - val_accuracy: 0.9926\n",
            "Epoch 30/30\n",
            "76/76 [==============================] - 27s 360ms/step - loss: 0.0183 - accuracy: 0.9947 - val_loss: 0.0712 - val_accuracy: 0.9796\n"
          ]
        }
      ]
    },
    {
      "cell_type": "code",
      "source": [
        "# Plot the chart for accuracy and loss on both training and validation\n",
        "acc = history.history['accuracy']\n",
        "val_acc = history.history['val_accuracy']\n",
        "loss = history.history['loss']\n",
        "val_loss = history.history['val_loss']\n",
        "\n",
        "epochs = range(len(acc))\n",
        "\n",
        "plt.plot(epochs, acc, 'r', label='Training accuracy')\n",
        "plt.plot(epochs, val_acc, 'b', label='Validation accuracy')\n",
        "plt.title('Training and validation accuracy')\n",
        "plt.legend()\n",
        "plt.figure()\n",
        "\n",
        "plt.plot(epochs, loss, 'r', label='Training Loss')\n",
        "plt.plot(epochs, val_loss, 'b', label='Validation Loss')\n",
        "plt.title('Training and validation loss')\n",
        "plt.legend()\n",
        "\n",
        "plt.show()"
      ],
      "metadata": {
        "colab": {
          "base_uri": "https://localhost:8080/",
          "height": 545
        },
        "id": "JkyOt89D_4vV",
        "outputId": "470db61a-015c-48df-c9d6-4c440578a14a"
      },
      "execution_count": null,
      "outputs": [
        {
          "output_type": "display_data",
          "data": {
            "text/plain": [
              "<Figure size 432x288 with 1 Axes>"
            ],
            "image/png": "[encoded data removed]"
          },
          "metadata": {
            "needs_background": "light"
          }
        },
        {
          "output_type": "display_data",
          "data": {
            "text/plain": [
              "<Figure size 432x288 with 1 Axes>"
            ],
            "image/png": "[encoded data removed]"
          },
          "metadata": {
            "needs_background": "light"
          }
        }
      ]
    },
    {
      "cell_type": "code",
      "source": [
        "model.save('Aksara_Sunda_Classification.h5',save_format=\".h5\")\n",
        "converter = tf.lite.TFLiteConverter.from_keras_model(model)\n",
        "tflite_model = converter.convert()\n",
        "open('Aksara_Sunda.tflite', 'wb').write(tflite_model)"
      ],
      "metadata": {
        "colab": {
          "base_uri": "https://localhost:8080/"
        },
        "id": "H9sZPTrIYkT-",
        "outputId": "af267e94-046a-49d3-b1ac-d0865ab4e62f"
      },
      "execution_count": null,
      "outputs": [
        {
          "output_type": "stream",
          "name": "stdout",
          "text": [
            "INFO:tensorflow:Assets written to: /tmp/tmpg4h7uv2z/assets\n"
          ]
        },
        {
          "output_type": "stream",
          "name": "stderr",
          "text": [
            "WARNING:absl:Buffer deduplication procedure will be skipped when flatbuffer library is not properly loaded\n"
          ]
        },
        {
          "output_type": "execute_result",
          "data": {
            "text/plain": [
              "6498492"
            ]
          },
          "metadata": {},
          "execution_count": 24
        }
      ]
    }
  ],
  "metadata": {
    "accelerator": "GPU",
    "colab": {
      "collapsed_sections": [],
      "name": "Sunda Aksara Classification Final Project",
      "provenance": []
    },
    "kernelspec": {
      "display_name": "Python 3",
      "language": "python",
      "name": "python3"
    },
    "language_info": {
      "codemirror_mode": {
        "name": "ipython",
        "version": 3
      },
      "file_extension": ".py",
      "mimetype": "text/x-python",
      "name": "python",
      "nbconvert_exporter": "python",
      "pygments_lexer": "ipython3",
      "version": "3.7.4"
    }
  },
  "nbformat": 4,
  "nbformat_minor": 0
}